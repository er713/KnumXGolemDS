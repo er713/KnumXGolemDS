{
  "nbformat": 4,
  "nbformat_minor": 0,
  "metadata": {
    "colab": {
      "name": "KNUMxGOLEM.ipynb",
      "provenance": [],
      "collapsed_sections": []
    },
    "kernelspec": {
      "name": "python3",
      "display_name": "Python 3"
    },
    "language_info": {
      "name": "python"
    },
    "widgets": {
      "application/vnd.jupyter.widget-state+json": {
        "d97a05ce91a14dcf966aad04b81ba414": {
          "model_module": "@jupyter-widgets/controls",
          "model_name": "HBoxModel",
          "model_module_version": "1.5.0",
          "state": {
            "_dom_classes": [],
            "_model_module": "@jupyter-widgets/controls",
            "_model_module_version": "1.5.0",
            "_model_name": "HBoxModel",
            "_view_count": null,
            "_view_module": "@jupyter-widgets/controls",
            "_view_module_version": "1.5.0",
            "_view_name": "HBoxView",
            "box_style": "",
            "children": [
              "IPY_MODEL_be6888508126492a811059d59b317e4f",
              "IPY_MODEL_c19ad518a39f42f3ad8268b3cb5bf71d",
              "IPY_MODEL_ba4932d91cd144d48b52243c4aa2a15f"
            ],
            "layout": "IPY_MODEL_7f03814e025e44bab8ac93ca70d336ad"
          }
        },
        "be6888508126492a811059d59b317e4f": {
          "model_module": "@jupyter-widgets/controls",
          "model_name": "HTMLModel",
          "model_module_version": "1.5.0",
          "state": {
            "_dom_classes": [],
            "_model_module": "@jupyter-widgets/controls",
            "_model_module_version": "1.5.0",
            "_model_name": "HTMLModel",
            "_view_count": null,
            "_view_module": "@jupyter-widgets/controls",
            "_view_module_version": "1.5.0",
            "_view_name": "HTMLView",
            "description": "",
            "description_tooltip": null,
            "layout": "IPY_MODEL_c51e9c965d7b4d30a6e32afa86783124",
            "placeholder": "​",
            "style": "IPY_MODEL_c228e29d55c3422cbdf3983267966629",
            "value": ""
          }
        },
        "c19ad518a39f42f3ad8268b3cb5bf71d": {
          "model_module": "@jupyter-widgets/controls",
          "model_name": "FloatProgressModel",
          "model_module_version": "1.5.0",
          "state": {
            "_dom_classes": [],
            "_model_module": "@jupyter-widgets/controls",
            "_model_module_version": "1.5.0",
            "_model_name": "FloatProgressModel",
            "_view_count": null,
            "_view_module": "@jupyter-widgets/controls",
            "_view_module_version": "1.5.0",
            "_view_name": "ProgressView",
            "bar_style": "success",
            "description": "",
            "description_tooltip": null,
            "layout": "IPY_MODEL_9b95691ad44942f5bccf7edec4932675",
            "max": 1,
            "min": 0,
            "orientation": "horizontal",
            "style": "IPY_MODEL_6503c64561ec409b89a121dbbf28ec7f",
            "value": 1
          }
        },
        "ba4932d91cd144d48b52243c4aa2a15f": {
          "model_module": "@jupyter-widgets/controls",
          "model_name": "HTMLModel",
          "model_module_version": "1.5.0",
          "state": {
            "_dom_classes": [],
            "_model_module": "@jupyter-widgets/controls",
            "_model_module_version": "1.5.0",
            "_model_name": "HTMLModel",
            "_view_count": null,
            "_view_module": "@jupyter-widgets/controls",
            "_view_module_version": "1.5.0",
            "_view_name": "HTMLView",
            "description": "",
            "description_tooltip": null,
            "layout": "IPY_MODEL_018d0edef8fb478db1823459a83712cd",
            "placeholder": "​",
            "style": "IPY_MODEL_cc966d572c7c4a92bfb9f984a7cba668",
            "value": " 832011/? [10:15&lt;00:00, 1400.30it/s]"
          }
        },
        "7f03814e025e44bab8ac93ca70d336ad": {
          "model_module": "@jupyter-widgets/base",
          "model_name": "LayoutModel",
          "model_module_version": "1.2.0",
          "state": {
            "_model_module": "@jupyter-widgets/base",
            "_model_module_version": "1.2.0",
            "_model_name": "LayoutModel",
            "_view_count": null,
            "_view_module": "@jupyter-widgets/base",
            "_view_module_version": "1.2.0",
            "_view_name": "LayoutView",
            "align_content": null,
            "align_items": null,
            "align_self": null,
            "border": null,
            "bottom": null,
            "display": null,
            "flex": null,
            "flex_flow": null,
            "grid_area": null,
            "grid_auto_columns": null,
            "grid_auto_flow": null,
            "grid_auto_rows": null,
            "grid_column": null,
            "grid_gap": null,
            "grid_row": null,
            "grid_template_areas": null,
            "grid_template_columns": null,
            "grid_template_rows": null,
            "height": null,
            "justify_content": null,
            "justify_items": null,
            "left": null,
            "margin": null,
            "max_height": null,
            "max_width": null,
            "min_height": null,
            "min_width": null,
            "object_fit": null,
            "object_position": null,
            "order": null,
            "overflow": null,
            "overflow_x": null,
            "overflow_y": null,
            "padding": null,
            "right": null,
            "top": null,
            "visibility": null,
            "width": null
          }
        },
        "c51e9c965d7b4d30a6e32afa86783124": {
          "model_module": "@jupyter-widgets/base",
          "model_name": "LayoutModel",
          "model_module_version": "1.2.0",
          "state": {
            "_model_module": "@jupyter-widgets/base",
            "_model_module_version": "1.2.0",
            "_model_name": "LayoutModel",
            "_view_count": null,
            "_view_module": "@jupyter-widgets/base",
            "_view_module_version": "1.2.0",
            "_view_name": "LayoutView",
            "align_content": null,
            "align_items": null,
            "align_self": null,
            "border": null,
            "bottom": null,
            "display": null,
            "flex": null,
            "flex_flow": null,
            "grid_area": null,
            "grid_auto_columns": null,
            "grid_auto_flow": null,
            "grid_auto_rows": null,
            "grid_column": null,
            "grid_gap": null,
            "grid_row": null,
            "grid_template_areas": null,
            "grid_template_columns": null,
            "grid_template_rows": null,
            "height": null,
            "justify_content": null,
            "justify_items": null,
            "left": null,
            "margin": null,
            "max_height": null,
            "max_width": null,
            "min_height": null,
            "min_width": null,
            "object_fit": null,
            "object_position": null,
            "order": null,
            "overflow": null,
            "overflow_x": null,
            "overflow_y": null,
            "padding": null,
            "right": null,
            "top": null,
            "visibility": null,
            "width": null
          }
        },
        "c228e29d55c3422cbdf3983267966629": {
          "model_module": "@jupyter-widgets/controls",
          "model_name": "DescriptionStyleModel",
          "model_module_version": "1.5.0",
          "state": {
            "_model_module": "@jupyter-widgets/controls",
            "_model_module_version": "1.5.0",
            "_model_name": "DescriptionStyleModel",
            "_view_count": null,
            "_view_module": "@jupyter-widgets/base",
            "_view_module_version": "1.2.0",
            "_view_name": "StyleView",
            "description_width": ""
          }
        },
        "9b95691ad44942f5bccf7edec4932675": {
          "model_module": "@jupyter-widgets/base",
          "model_name": "LayoutModel",
          "model_module_version": "1.2.0",
          "state": {
            "_model_module": "@jupyter-widgets/base",
            "_model_module_version": "1.2.0",
            "_model_name": "LayoutModel",
            "_view_count": null,
            "_view_module": "@jupyter-widgets/base",
            "_view_module_version": "1.2.0",
            "_view_name": "LayoutView",
            "align_content": null,
            "align_items": null,
            "align_self": null,
            "border": null,
            "bottom": null,
            "display": null,
            "flex": null,
            "flex_flow": null,
            "grid_area": null,
            "grid_auto_columns": null,
            "grid_auto_flow": null,
            "grid_auto_rows": null,
            "grid_column": null,
            "grid_gap": null,
            "grid_row": null,
            "grid_template_areas": null,
            "grid_template_columns": null,
            "grid_template_rows": null,
            "height": null,
            "justify_content": null,
            "justify_items": null,
            "left": null,
            "margin": null,
            "max_height": null,
            "max_width": null,
            "min_height": null,
            "min_width": null,
            "object_fit": null,
            "object_position": null,
            "order": null,
            "overflow": null,
            "overflow_x": null,
            "overflow_y": null,
            "padding": null,
            "right": null,
            "top": null,
            "visibility": null,
            "width": "20px"
          }
        },
        "6503c64561ec409b89a121dbbf28ec7f": {
          "model_module": "@jupyter-widgets/controls",
          "model_name": "ProgressStyleModel",
          "model_module_version": "1.5.0",
          "state": {
            "_model_module": "@jupyter-widgets/controls",
            "_model_module_version": "1.5.0",
            "_model_name": "ProgressStyleModel",
            "_view_count": null,
            "_view_module": "@jupyter-widgets/base",
            "_view_module_version": "1.2.0",
            "_view_name": "StyleView",
            "bar_color": null,
            "description_width": ""
          }
        },
        "018d0edef8fb478db1823459a83712cd": {
          "model_module": "@jupyter-widgets/base",
          "model_name": "LayoutModel",
          "model_module_version": "1.2.0",
          "state": {
            "_model_module": "@jupyter-widgets/base",
            "_model_module_version": "1.2.0",
            "_model_name": "LayoutModel",
            "_view_count": null,
            "_view_module": "@jupyter-widgets/base",
            "_view_module_version": "1.2.0",
            "_view_name": "LayoutView",
            "align_content": null,
            "align_items": null,
            "align_self": null,
            "border": null,
            "bottom": null,
            "display": null,
            "flex": null,
            "flex_flow": null,
            "grid_area": null,
            "grid_auto_columns": null,
            "grid_auto_flow": null,
            "grid_auto_rows": null,
            "grid_column": null,
            "grid_gap": null,
            "grid_row": null,
            "grid_template_areas": null,
            "grid_template_columns": null,
            "grid_template_rows": null,
            "height": null,
            "justify_content": null,
            "justify_items": null,
            "left": null,
            "margin": null,
            "max_height": null,
            "max_width": null,
            "min_height": null,
            "min_width": null,
            "object_fit": null,
            "object_position": null,
            "order": null,
            "overflow": null,
            "overflow_x": null,
            "overflow_y": null,
            "padding": null,
            "right": null,
            "top": null,
            "visibility": null,
            "width": null
          }
        },
        "cc966d572c7c4a92bfb9f984a7cba668": {
          "model_module": "@jupyter-widgets/controls",
          "model_name": "DescriptionStyleModel",
          "model_module_version": "1.5.0",
          "state": {
            "_model_module": "@jupyter-widgets/controls",
            "_model_module_version": "1.5.0",
            "_model_name": "DescriptionStyleModel",
            "_view_count": null,
            "_view_module": "@jupyter-widgets/base",
            "_view_module_version": "1.2.0",
            "_view_name": "StyleView",
            "description_width": ""
          }
        }
      }
    }
  },
  "cells": [
    {
      "cell_type": "code",
      "source": [
        "path = '/content/drive/MyDrive/HACKATHON/'"
      ],
      "metadata": {
        "id": "60KvK-IvrHII"
      },
      "execution_count": 1,
      "outputs": []
    },
    {
      "cell_type": "code",
      "execution_count": 2,
      "metadata": {
        "id": "Kl5BnB_7qe9V"
      },
      "outputs": [],
      "source": [
        "import pandas as pd\n",
        "import numpy as np\n",
        "# import torch\n",
        "# import csv"
      ]
    },
    {
      "cell_type": "code",
      "source": [
        "cities = pd.read_csv(f'{path}cities.csv',index_col='id')\n",
        "districts = pd.read_csv(f'{path}districts.csv',index_col='id')\n",
        "# test = pd.read_csv(f'{path}test.csv', on_bad_lines='skip')\n",
        "train = pd.read_csv(f'{path}train.csv')\n",
        "train.shape\n",
        "# train_desc = pd.read_csv(f'{path}train_description_clean.csv')\n",
        "# test_desc = pd.read_csv(f'{path}test_description_clean.csv')"
      ],
      "metadata": {
        "id": "crA-sOG2rYxf",
        "colab": {
          "base_uri": "https://localhost:8080/"
        },
        "outputId": "a35d1b21-741e-4966-e305-f6cbd3d4dac3"
      },
      "execution_count": 4,
      "outputs": [
        {
          "output_type": "execute_result",
          "data": {
            "text/plain": [
              "(832011, 11)"
            ]
          },
          "metadata": {},
          "execution_count": 4
        }
      ]
    },
    {
      "cell_type": "code",
      "source": [
        "from google.colab import drive\n",
        "drive.mount('/content/drive')"
      ],
      "metadata": {
        "colab": {
          "base_uri": "https://localhost:8080/"
        },
        "id": "opWcwaC6eCAM",
        "outputId": "ffeb0c04-7fd5-4fa9-b0b5-621f1f50f9fa"
      },
      "execution_count": 3,
      "outputs": [
        {
          "output_type": "stream",
          "name": "stdout",
          "text": [
            "Drive already mounted at /content/drive; to attempt to forcibly remount, call drive.mount(\"/content/drive\", force_remount=True).\n"
          ]
        }
      ]
    },
    {
      "cell_type": "code",
      "source": [
        "print(\"### INFO ###\")\n",
        "print(cities.info())\n",
        "print(\"### HEAD ###\")\n",
        "print(cities.head())\n",
        "print(\"### NaN ###\")\n",
        "print(cities.isnull().sum(axis = 0))"
      ],
      "metadata": {
        "id": "weyMf37PsNNT"
      },
      "execution_count": null,
      "outputs": []
    },
    {
      "cell_type": "code",
      "source": [
        "print(\"### INFO ###\")\n",
        "print(districts.info())\n",
        "print(\"### HEAD ###\")\n",
        "print(districts.head())\n",
        "print(\"### NaN ###\")\n",
        "print(districts.isnull().sum(axis = 0))"
      ],
      "metadata": {
        "id": "zDsNz3wMshYn"
      },
      "execution_count": null,
      "outputs": []
    },
    {
      "cell_type": "code",
      "source": [
        "print(\"### INFO ###\")\n",
        "print(test.info())\n",
        "print(\"### HEAD ###\")\n",
        "print(test.head())\n"
      ],
      "metadata": {
        "id": "7GNSWMsRsjX6",
        "outputId": "ccbb7884-7d4d-48cd-9645-3b8610483c30",
        "colab": {
          "base_uri": "https://localhost:8080/"
        }
      },
      "execution_count": null,
      "outputs": [
        {
          "output_type": "stream",
          "name": "stdout",
          "text": [
            "### INFO ###\n",
            "<class 'pandas.core.frame.DataFrame'>\n",
            "RangeIndex: 5426 entries, 0 to 5425\n",
            "Data columns (total 10 columns):\n",
            " #   Column            Non-Null Count  Dtype  \n",
            "---  ------            --------------  -----  \n",
            " 0   id                5426 non-null   int64  \n",
            " 1   created_at_first  5426 non-null   object \n",
            " 2   category          5426 non-null   object \n",
            " 3   is_business       5425 non-null   float64\n",
            " 4   district_id       3460 non-null   float64\n",
            " 5   city_id           5425 non-null   float64\n",
            " 6   region_id         5425 non-null   float64\n",
            " 7   description       5425 non-null   object \n",
            " 8   params            5425 non-null   object \n",
            " 9   title             4785 non-null   object \n",
            "dtypes: float64(4), int64(1), object(5)\n",
            "memory usage: 424.0+ KB\n",
            "None\n",
            "### HEAD ###\n",
            "       id     created_at_first                category  is_business  \\\n",
            "0  514606  2019-04-04 15:58:45  Mieszkanie na sprzedaż          1.0   \n",
            "1  340281  2019-05-17 11:11:16  Mieszkanie na sprzedaż          1.0   \n",
            "2  713770  2019-04-05 16:02:19  Mieszkanie na sprzedaż          1.0   \n",
            "3  250604  2019-04-12 16:41:14         Dom na sprzedaż          1.0   \n",
            "4  729795  2019-05-28 17:25:24  Mieszkanie na sprzedaż          1.0   \n",
            "\n",
            "   district_id  city_id  region_id  \\\n",
            "0      33890.0     26.0        7.0   \n",
            "1          NaN    940.0        7.0   \n",
            "2         48.0     26.0        7.0   \n",
            "3          NaN  19340.0       15.0   \n",
            "4          3.0     39.0        1.0   \n",
            "\n",
            "                                         description  \\\n",
            "0  <p>Mieszkanie dwupokojowe o powierzchni 41,28 ...   \n",
            "1  <p>3 POKOJE.. OGRÓDEK.. BALKON.. 2 MIEJSCA POS...   \n",
            "2  <p><p>Sprzedam mieszkanie położone na spokojny...   \n",
            "3  <p>Polecam do sprzedaży wolnostojący dom, poło...   \n",
            "4  <p><br/><ul><br/><li>KRZYKI PRAKTYCZNE I&nbsp;...   \n",
            "\n",
            "                                              params  \\\n",
            "0  price[currency]<=>PLN<br>m<=>41.28<br>rooms_nu...   \n",
            "1  price[currency]<=>PLN<br>m<=>75<br>rooms_num<=...   \n",
            "2  price[currency]<=>PLN<br>m<=>91.7<br>rooms_num...   \n",
            "3  price[currency]<=>PLN<br>terrain_area<=>9583<b...   \n",
            "4  price[currency]<=>PLN<br>m<=>91<br>rooms_num<=...   \n",
            "\n",
            "                                             title  \n",
            "0                NOWA INWESTYCJA-Park Rembertów!!!  \n",
            "1                                              NaN  \n",
            "2  Ciche, słoneczne 4 pok. mieszkanie bezczynszowe  \n",
            "3                      Dom parterowy pod Poznaniem  \n",
            "4   4 pok.►Tramwaj►Fontanna►Winda►2xBalkon►Ochrona  \n"
          ]
        }
      ]
    },
    {
      "cell_type": "code",
      "source": [
        "print(\"### INFO ###\")\n",
        "print(train.info())\n",
        "print(\"### HEAD ###\")\n",
        "print(train.head())\n"
      ],
      "metadata": {
        "id": "WLow2pSOskaj",
        "outputId": "536e0f3f-8976-45bd-adea-e09c4b9dd37c",
        "colab": {
          "base_uri": "https://localhost:8080/"
        }
      },
      "execution_count": null,
      "outputs": [
        {
          "output_type": "stream",
          "name": "stdout",
          "text": [
            "### INFO ###\n",
            "<class 'pandas.core.frame.DataFrame'>\n",
            "RangeIndex: 4861 entries, 0 to 4860\n",
            "Data columns (total 11 columns):\n",
            " #   Column            Non-Null Count  Dtype  \n",
            "---  ------            --------------  -----  \n",
            " 0   id                4861 non-null   int64  \n",
            " 1   created_at_first  4861 non-null   object \n",
            " 2   category          4861 non-null   object \n",
            " 3   is_business       4861 non-null   int64  \n",
            " 4   district_id       2834 non-null   float64\n",
            " 5   city_id           4861 non-null   int64  \n",
            " 6   region_id         4861 non-null   int64  \n",
            " 7   description       4861 non-null   object \n",
            " 8   params            4861 non-null   object \n",
            " 9   title             4203 non-null   object \n",
            " 10  price             4860 non-null   float64\n",
            "dtypes: float64(2), int64(4), object(5)\n",
            "memory usage: 417.9+ KB\n",
            "None\n",
            "### HEAD ###\n",
            "       id     created_at_first                category  is_business  \\\n",
            "0  325017  2018-10-06 12:20:48  Mieszkanie na sprzedaż            1   \n",
            "1  513427  2019-02-18 12:17:51  Mieszkanie na sprzedaż            1   \n",
            "2  824979  2019-03-21 17:31:09  Mieszkanie na sprzedaż            1   \n",
            "3  400727  2018-11-28 23:50:45  Mieszkanie na sprzedaż            1   \n",
            "4  298324  2019-01-22 21:22:42         Dom na sprzedaż            0   \n",
            "\n",
            "   district_id  city_id  region_id  \\\n",
            "0      12867.0      210         14   \n",
            "1          NaN     3614         15   \n",
            "2       3434.0      204         10   \n",
            "3         87.0        1         15   \n",
            "4          NaN    11879          7   \n",
            "\n",
            "                                         description  \\\n",
            "0  <p><br/>Oferuję na sprzedaż&nbsp;<strong>miesz...   \n",
            "1  <p>[b]Plewiska lokal 2-poziomowy w zabudowie s...   \n",
            "2  <p>Polecamy trzypokojowe, dwustronne i bardzo ...   \n",
            "3  <p><br/>Kupując z pośrednikiem - kupujesz bezp...   \n",
            "4  <p>Nowy dom wolnostojący o powierzchni 195 m<P...   \n",
            "\n",
            "                                              params  \\\n",
            "0  price[currency]<=>PLN<br>m<=>72.14<br>rooms_nu...   \n",
            "1  price[currency]<=>PLN<br>m<=>95<br>rooms_num<=...   \n",
            "2  price[currency]<=>PLN<br>m<=>58.9<br>rooms_num...   \n",
            "3  price[currency]<=>PLN<br>m<=>45<br>rooms_num<=...   \n",
            "4  price[currency]<=>PLN<br>terrain_area<=>3201<b...   \n",
            "\n",
            "                                               title     price  \n",
            "0  Nowa inwestycja na Dajtkach - mieszkania od 70...  389556.0  \n",
            "1        Plewiska mieszkanie 2-poziomowe z ogródkiem  500000.0  \n",
            "2         Mieszkanie z potencjałem / Zielone Wzgórza  238000.0  \n",
            "3              Poznań, Łazarz, mieszkanie 2 pokojowe  209000.0  \n",
            "4      Piękny dom na wsi w okolicy Nowego Dworu Maz.  729000.0  \n"
          ]
        }
      ]
    },
    {
      "cell_type": "code",
      "source": [
        "print(\"### NaN ###\")\n",
        "print(test.isnull().sum(axis = 0))\n",
        "print(\"### NaN ###\")\n",
        "print(train.isnull().sum(axis = 0))"
      ],
      "metadata": {
        "id": "FYfMKoPssmnX",
        "colab": {
          "base_uri": "https://localhost:8080/"
        },
        "outputId": "94c33cdd-4fed-428f-9afa-72cbb914b495"
      },
      "execution_count": null,
      "outputs": [
        {
          "output_type": "stream",
          "name": "stdout",
          "text": [
            "### NaN ###\n",
            "id                     0\n",
            "created_at_first       0\n",
            "category               0\n",
            "is_business            1\n",
            "district_id         1966\n",
            "city_id                1\n",
            "region_id              1\n",
            "description            1\n",
            "params                 1\n",
            "title                641\n",
            "dtype: int64\n",
            "### NaN ###\n",
            "id                     0\n",
            "created_at_first       0\n",
            "category               0\n",
            "is_business            0\n",
            "district_id         2027\n",
            "city_id                0\n",
            "region_id              0\n",
            "description            0\n",
            "params                 0\n",
            "title                658\n",
            "price                  1\n",
            "dtype: int64\n"
          ]
        }
      ]
    },
    {
      "cell_type": "code",
      "source": [
        "from tqdm.notebook import tqdm\n",
        "\n",
        "def is_apartment(data):\n",
        "  return data['category'] == 'Mieszkanie na sprzedaż'\n",
        "\n",
        "def get_city_geoloc(city_id):\n",
        "  return cities.loc[city_id][['lon','lat']]\n",
        "\n",
        "def get_district_geoloc(district_id):\n",
        "  return districts.loc[district_id][['lon','lat']]\n",
        "\n",
        "def drop_region_id(data):\n",
        "  return data.drop('region_id',1)\n",
        "\n",
        "def drop_id(data):\n",
        "  return data.drop('id',1)\n",
        "\n",
        "def get_x_y(data):\n",
        "  return data.loc[:, data.columns != 'price'], data.loc[:, data.columns == 'price']\n",
        "\n",
        "def get_geoloc(data):\n",
        "  if not data['district_id']:\n",
        "    return get_district_geoloc(int(data['district_id']))\n",
        "  elif data['city_id']:\n",
        "    return get_city_geoloc(int(data['city_id']))\n",
        "\n",
        "def price_per_m(data):\n",
        "  data['pln/m'] = data['price']/data['m']\n",
        "\n",
        "def super_funkcja_eryka(params, params_all):\n",
        "  result = [] \n",
        "  for param in params_all: \n",
        "    if param in params:\n",
        "      result.append(1)\n",
        "    else:\n",
        "      result.append(0)\n",
        "  return result\n",
        "\n",
        "def sef(data):\n",
        "  lon_ = []\n",
        "  lat_ = []\n",
        "  for i, row in tqdm(data.iterrows()):\n",
        "      lon, lat= get_geoloc(row)\n",
        "      lon_.append(lon)\n",
        "      lat_.append(lat)\n",
        "  data['lon']=lon_\n",
        "  data['lat']=lat_\n"
      ],
      "metadata": {
        "id": "tzItAa4nx82O"
      },
      "execution_count": 5,
      "outputs": []
    },
    {
      "cell_type": "code",
      "source": [
        "test[test['district_id'].isnull()]"
      ],
      "metadata": {
        "colab": {
          "base_uri": "https://localhost:8080/",
          "height": 798
        },
        "id": "PNWpKn1I5XUn",
        "outputId": "13470490-b0fc-4ed1-e8fe-fbaa9dcccb48"
      },
      "execution_count": null,
      "outputs": [
        {
          "output_type": "execute_result",
          "data": {
            "text/plain": [
              "          id     created_at_first                category  is_business  \\\n",
              "1     340281  2019-05-17 11:11:16  Mieszkanie na sprzedaż          1.0   \n",
              "3     250604  2019-04-12 16:41:14         Dom na sprzedaż          1.0   \n",
              "5      80388  2019-04-14 13:14:02         Dom na sprzedaż          0.0   \n",
              "10    571296  2019-05-29 14:48:20         Dom na sprzedaż          1.0   \n",
              "23    297896  2019-06-26 11:22:40  Mieszkanie na sprzedaż          1.0   \n",
              "...      ...                  ...                     ...          ...   \n",
              "5416  508371  2019-06-04 15:45:10         Dom na sprzedaż          1.0   \n",
              "5417  150465  2019-05-21 22:20:37         Dom na sprzedaż          1.0   \n",
              "5418  385110  2019-04-05 17:10:54         Dom na sprzedaż          1.0   \n",
              "5421  232580  2019-05-22 22:15:27  Mieszkanie na sprzedaż          1.0   \n",
              "5425  530021  2019-05-20 12:55:20                    Mies          NaN   \n",
              "\n",
              "      district_id  city_id  region_id  \\\n",
              "1             NaN    940.0        7.0   \n",
              "3             NaN  19340.0       15.0   \n",
              "5             NaN    825.0        7.0   \n",
              "10            NaN  11536.0       15.0   \n",
              "23            NaN    169.0       12.0   \n",
              "...           ...      ...        ...   \n",
              "5416          NaN    207.0       11.0   \n",
              "5417          NaN    569.0        6.0   \n",
              "5418          NaN   2496.0        2.0   \n",
              "5421          NaN   1305.0        1.0   \n",
              "5425          NaN      NaN        NaN   \n",
              "\n",
              "                                            description  \\\n",
              "1     <p>3 POKOJE.. OGRÓDEK.. BALKON.. 2 MIEJSCA POS...   \n",
              "3     <p>Polecam do sprzedaży wolnostojący dom, poło...   \n",
              "5     <p>Budynek oddany w 2013 r<br /> <br /> 707 m2...   \n",
              "10    <p>Zachęcam do zapoznania się z ofertą sprzeda...   \n",
              "23    <p>Dwupokojowe w bloku<br />- kuchnia, <br />-...   \n",
              "...                                                 ...   \n",
              "5416  <p>WYGODNY DOM W DOBREJ CENIE !! <br /><br /><...   \n",
              "5417  <p></p><p><br/><strong>PIĘKNY NOWOCZESNY DOM Z...   \n",
              "5418  <p><strong>Sprzedam nowy dom z 2019 roku z dzi...   \n",
              "5421  <p><br/><strong>Dwupokojowe mieszkanie w Jedli...   \n",
              "5425                                                NaN   \n",
              "\n",
              "                                                 params  \\\n",
              "1     price[currency]<=>PLN<br>m<=>75<br>rooms_num<=...   \n",
              "3     price[currency]<=>PLN<br>terrain_area<=>9583<b...   \n",
              "5     price[currency]<=>PLN<br>terrain_area<=>707<br...   \n",
              "10    price[currency]<=>PLN<br>terrain_area<=>386<br...   \n",
              "23    price[currency]<=>PLN<br>m<=>43<br>rooms_num<=...   \n",
              "...                                                 ...   \n",
              "5416  price[currency]<=>PLN<br>terrain_area<=>500<br...   \n",
              "5417  price[currency]<=>PLN<br>terrain_area<=>600<br...   \n",
              "5418  price[currency]<=>PLN<br>terrain_area<=>1029<b...   \n",
              "5421  price[currency]<=>PLN<br>m<=>64.22<br>rooms_nu...   \n",
              "5425                                                NaN   \n",
              "\n",
              "                                          title  \n",
              "1                                           NaN  \n",
              "3                   Dom parterowy pod Poznaniem  \n",
              "5           Dom mieszkalny (2013) | m2 | Słupno  \n",
              "10    Nowy bliźniak, duży ogród, blisko Szkoły!  \n",
              "23                  Dwupokojowe-Ruda Południowa  \n",
              "...                                         ...  \n",
              "5416   Promocyjna Cena !! Bolesławice / 5 pokoi  \n",
              "5417                                        NaN  \n",
              "5418           Sprzedam nowy dom za <PRICE> !!!  \n",
              "5421                                        NaN  \n",
              "5425                                        NaN  \n",
              "\n",
              "[1966 rows x 10 columns]"
            ],
            "text/html": [
              "\n",
              "  <div id=\"df-3f4a582a-b248-4528-8fef-c0e345b9231c\">\n",
              "    <div class=\"colab-df-container\">\n",
              "      <div>\n",
              "<style scoped>\n",
              "    .dataframe tbody tr th:only-of-type {\n",
              "        vertical-align: middle;\n",
              "    }\n",
              "\n",
              "    .dataframe tbody tr th {\n",
              "        vertical-align: top;\n",
              "    }\n",
              "\n",
              "    .dataframe thead th {\n",
              "        text-align: right;\n",
              "    }\n",
              "</style>\n",
              "<table border=\"1\" class=\"dataframe\">\n",
              "  <thead>\n",
              "    <tr style=\"text-align: right;\">\n",
              "      <th></th>\n",
              "      <th>id</th>\n",
              "      <th>created_at_first</th>\n",
              "      <th>category</th>\n",
              "      <th>is_business</th>\n",
              "      <th>district_id</th>\n",
              "      <th>city_id</th>\n",
              "      <th>region_id</th>\n",
              "      <th>description</th>\n",
              "      <th>params</th>\n",
              "      <th>title</th>\n",
              "    </tr>\n",
              "  </thead>\n",
              "  <tbody>\n",
              "    <tr>\n",
              "      <th>1</th>\n",
              "      <td>340281</td>\n",
              "      <td>2019-05-17 11:11:16</td>\n",
              "      <td>Mieszkanie na sprzedaż</td>\n",
              "      <td>1.0</td>\n",
              "      <td>NaN</td>\n",
              "      <td>940.0</td>\n",
              "      <td>7.0</td>\n",
              "      <td>&lt;p&gt;3 POKOJE.. OGRÓDEK.. BALKON.. 2 MIEJSCA POS...</td>\n",
              "      <td>price[currency]&lt;=&gt;PLN&lt;br&gt;m&lt;=&gt;75&lt;br&gt;rooms_num&lt;=...</td>\n",
              "      <td>NaN</td>\n",
              "    </tr>\n",
              "    <tr>\n",
              "      <th>3</th>\n",
              "      <td>250604</td>\n",
              "      <td>2019-04-12 16:41:14</td>\n",
              "      <td>Dom na sprzedaż</td>\n",
              "      <td>1.0</td>\n",
              "      <td>NaN</td>\n",
              "      <td>19340.0</td>\n",
              "      <td>15.0</td>\n",
              "      <td>&lt;p&gt;Polecam do sprzedaży wolnostojący dom, poło...</td>\n",
              "      <td>price[currency]&lt;=&gt;PLN&lt;br&gt;terrain_area&lt;=&gt;9583&lt;b...</td>\n",
              "      <td>Dom parterowy pod Poznaniem</td>\n",
              "    </tr>\n",
              "    <tr>\n",
              "      <th>5</th>\n",
              "      <td>80388</td>\n",
              "      <td>2019-04-14 13:14:02</td>\n",
              "      <td>Dom na sprzedaż</td>\n",
              "      <td>0.0</td>\n",
              "      <td>NaN</td>\n",
              "      <td>825.0</td>\n",
              "      <td>7.0</td>\n",
              "      <td>&lt;p&gt;Budynek oddany w 2013 r&lt;br /&gt; &lt;br /&gt; 707 m2...</td>\n",
              "      <td>price[currency]&lt;=&gt;PLN&lt;br&gt;terrain_area&lt;=&gt;707&lt;br...</td>\n",
              "      <td>Dom mieszkalny (2013) | m2 | Słupno</td>\n",
              "    </tr>\n",
              "    <tr>\n",
              "      <th>10</th>\n",
              "      <td>571296</td>\n",
              "      <td>2019-05-29 14:48:20</td>\n",
              "      <td>Dom na sprzedaż</td>\n",
              "      <td>1.0</td>\n",
              "      <td>NaN</td>\n",
              "      <td>11536.0</td>\n",
              "      <td>15.0</td>\n",
              "      <td>&lt;p&gt;Zachęcam do zapoznania się z ofertą sprzeda...</td>\n",
              "      <td>price[currency]&lt;=&gt;PLN&lt;br&gt;terrain_area&lt;=&gt;386&lt;br...</td>\n",
              "      <td>Nowy bliźniak, duży ogród, blisko Szkoły!</td>\n",
              "    </tr>\n",
              "    <tr>\n",
              "      <th>23</th>\n",
              "      <td>297896</td>\n",
              "      <td>2019-06-26 11:22:40</td>\n",
              "      <td>Mieszkanie na sprzedaż</td>\n",
              "      <td>1.0</td>\n",
              "      <td>NaN</td>\n",
              "      <td>169.0</td>\n",
              "      <td>12.0</td>\n",
              "      <td>&lt;p&gt;Dwupokojowe w bloku&lt;br /&gt;- kuchnia, &lt;br /&gt;-...</td>\n",
              "      <td>price[currency]&lt;=&gt;PLN&lt;br&gt;m&lt;=&gt;43&lt;br&gt;rooms_num&lt;=...</td>\n",
              "      <td>Dwupokojowe-Ruda Południowa</td>\n",
              "    </tr>\n",
              "    <tr>\n",
              "      <th>...</th>\n",
              "      <td>...</td>\n",
              "      <td>...</td>\n",
              "      <td>...</td>\n",
              "      <td>...</td>\n",
              "      <td>...</td>\n",
              "      <td>...</td>\n",
              "      <td>...</td>\n",
              "      <td>...</td>\n",
              "      <td>...</td>\n",
              "      <td>...</td>\n",
              "    </tr>\n",
              "    <tr>\n",
              "      <th>5416</th>\n",
              "      <td>508371</td>\n",
              "      <td>2019-06-04 15:45:10</td>\n",
              "      <td>Dom na sprzedaż</td>\n",
              "      <td>1.0</td>\n",
              "      <td>NaN</td>\n",
              "      <td>207.0</td>\n",
              "      <td>11.0</td>\n",
              "      <td>&lt;p&gt;WYGODNY DOM W DOBREJ CENIE !! &lt;br /&gt;&lt;br /&gt;&lt;...</td>\n",
              "      <td>price[currency]&lt;=&gt;PLN&lt;br&gt;terrain_area&lt;=&gt;500&lt;br...</td>\n",
              "      <td>Promocyjna Cena !! Bolesławice / 5 pokoi</td>\n",
              "    </tr>\n",
              "    <tr>\n",
              "      <th>5417</th>\n",
              "      <td>150465</td>\n",
              "      <td>2019-05-21 22:20:37</td>\n",
              "      <td>Dom na sprzedaż</td>\n",
              "      <td>1.0</td>\n",
              "      <td>NaN</td>\n",
              "      <td>569.0</td>\n",
              "      <td>6.0</td>\n",
              "      <td>&lt;p&gt;&lt;/p&gt;&lt;p&gt;&lt;br/&gt;&lt;strong&gt;PIĘKNY NOWOCZESNY DOM Z...</td>\n",
              "      <td>price[currency]&lt;=&gt;PLN&lt;br&gt;terrain_area&lt;=&gt;600&lt;br...</td>\n",
              "      <td>NaN</td>\n",
              "    </tr>\n",
              "    <tr>\n",
              "      <th>5418</th>\n",
              "      <td>385110</td>\n",
              "      <td>2019-04-05 17:10:54</td>\n",
              "      <td>Dom na sprzedaż</td>\n",
              "      <td>1.0</td>\n",
              "      <td>NaN</td>\n",
              "      <td>2496.0</td>\n",
              "      <td>2.0</td>\n",
              "      <td>&lt;p&gt;&lt;strong&gt;Sprzedam nowy dom z 2019 roku z dzi...</td>\n",
              "      <td>price[currency]&lt;=&gt;PLN&lt;br&gt;terrain_area&lt;=&gt;1029&lt;b...</td>\n",
              "      <td>Sprzedam nowy dom za &lt;PRICE&gt; !!!</td>\n",
              "    </tr>\n",
              "    <tr>\n",
              "      <th>5421</th>\n",
              "      <td>232580</td>\n",
              "      <td>2019-05-22 22:15:27</td>\n",
              "      <td>Mieszkanie na sprzedaż</td>\n",
              "      <td>1.0</td>\n",
              "      <td>NaN</td>\n",
              "      <td>1305.0</td>\n",
              "      <td>1.0</td>\n",
              "      <td>&lt;p&gt;&lt;br/&gt;&lt;strong&gt;Dwupokojowe mieszkanie w Jedli...</td>\n",
              "      <td>price[currency]&lt;=&gt;PLN&lt;br&gt;m&lt;=&gt;64.22&lt;br&gt;rooms_nu...</td>\n",
              "      <td>NaN</td>\n",
              "    </tr>\n",
              "    <tr>\n",
              "      <th>5425</th>\n",
              "      <td>530021</td>\n",
              "      <td>2019-05-20 12:55:20</td>\n",
              "      <td>Mies</td>\n",
              "      <td>NaN</td>\n",
              "      <td>NaN</td>\n",
              "      <td>NaN</td>\n",
              "      <td>NaN</td>\n",
              "      <td>NaN</td>\n",
              "      <td>NaN</td>\n",
              "      <td>NaN</td>\n",
              "    </tr>\n",
              "  </tbody>\n",
              "</table>\n",
              "<p>1966 rows × 10 columns</p>\n",
              "</div>\n",
              "      <button class=\"colab-df-convert\" onclick=\"convertToInteractive('df-3f4a582a-b248-4528-8fef-c0e345b9231c')\"\n",
              "              title=\"Convert this dataframe to an interactive table.\"\n",
              "              style=\"display:none;\">\n",
              "        \n",
              "  <svg xmlns=\"http://www.w3.org/2000/svg\" height=\"24px\"viewBox=\"0 0 24 24\"\n",
              "       width=\"24px\">\n",
              "    <path d=\"M0 0h24v24H0V0z\" fill=\"none\"/>\n",
              "    <path d=\"M18.56 5.44l.94 2.06.94-2.06 2.06-.94-2.06-.94-.94-2.06-.94 2.06-2.06.94zm-11 1L8.5 8.5l.94-2.06 2.06-.94-2.06-.94L8.5 2.5l-.94 2.06-2.06.94zm10 10l.94 2.06.94-2.06 2.06-.94-2.06-.94-.94-2.06-.94 2.06-2.06.94z\"/><path d=\"M17.41 7.96l-1.37-1.37c-.4-.4-.92-.59-1.43-.59-.52 0-1.04.2-1.43.59L10.3 9.45l-7.72 7.72c-.78.78-.78 2.05 0 2.83L4 21.41c.39.39.9.59 1.41.59.51 0 1.02-.2 1.41-.59l7.78-7.78 2.81-2.81c.8-.78.8-2.07 0-2.86zM5.41 20L4 18.59l7.72-7.72 1.47 1.35L5.41 20z\"/>\n",
              "  </svg>\n",
              "      </button>\n",
              "      \n",
              "  <style>\n",
              "    .colab-df-container {\n",
              "      display:flex;\n",
              "      flex-wrap:wrap;\n",
              "      gap: 12px;\n",
              "    }\n",
              "\n",
              "    .colab-df-convert {\n",
              "      background-color: #E8F0FE;\n",
              "      border: none;\n",
              "      border-radius: 50%;\n",
              "      cursor: pointer;\n",
              "      display: none;\n",
              "      fill: #1967D2;\n",
              "      height: 32px;\n",
              "      padding: 0 0 0 0;\n",
              "      width: 32px;\n",
              "    }\n",
              "\n",
              "    .colab-df-convert:hover {\n",
              "      background-color: #E2EBFA;\n",
              "      box-shadow: 0px 1px 2px rgba(60, 64, 67, 0.3), 0px 1px 3px 1px rgba(60, 64, 67, 0.15);\n",
              "      fill: #174EA6;\n",
              "    }\n",
              "\n",
              "    [theme=dark] .colab-df-convert {\n",
              "      background-color: #3B4455;\n",
              "      fill: #D2E3FC;\n",
              "    }\n",
              "\n",
              "    [theme=dark] .colab-df-convert:hover {\n",
              "      background-color: #434B5C;\n",
              "      box-shadow: 0px 1px 3px 1px rgba(0, 0, 0, 0.15);\n",
              "      filter: drop-shadow(0px 1px 2px rgba(0, 0, 0, 0.3));\n",
              "      fill: #FFFFFF;\n",
              "    }\n",
              "  </style>\n",
              "\n",
              "      <script>\n",
              "        const buttonEl =\n",
              "          document.querySelector('#df-3f4a582a-b248-4528-8fef-c0e345b9231c button.colab-df-convert');\n",
              "        buttonEl.style.display =\n",
              "          google.colab.kernel.accessAllowed ? 'block' : 'none';\n",
              "\n",
              "        async function convertToInteractive(key) {\n",
              "          const element = document.querySelector('#df-3f4a582a-b248-4528-8fef-c0e345b9231c');\n",
              "          const dataTable =\n",
              "            await google.colab.kernel.invokeFunction('convertToInteractive',\n",
              "                                                     [key], {});\n",
              "          if (!dataTable) return;\n",
              "\n",
              "          const docLinkHtml = 'Like what you see? Visit the ' +\n",
              "            '<a target=\"_blank\" href=https://colab.research.google.com/notebooks/data_table.ipynb>data table notebook</a>'\n",
              "            + ' to learn more about interactive tables.';\n",
              "          element.innerHTML = '';\n",
              "          dataTable['output_type'] = 'display_data';\n",
              "          await google.colab.output.renderOutput(dataTable, element);\n",
              "          const docLink = document.createElement('div');\n",
              "          docLink.innerHTML = docLinkHtml;\n",
              "          element.appendChild(docLink);\n",
              "        }\n",
              "      </script>\n",
              "    </div>\n",
              "  </div>\n",
              "  "
            ]
          },
          "metadata": {},
          "execution_count": 73
        }
      ]
    },
    {
      "cell_type": "markdown",
      "source": [
        ""
      ],
      "metadata": {
        "id": "7CLntKE20Hut"
      }
    },
    {
      "cell_type": "code",
      "source": [
        "from collections import defaultdict\n",
        "from tqdm import tqdm\n",
        "\n",
        "def append_meters(data: pd.DataFrame) -> pd.DataFrame:\n",
        "    params_tab = []\n",
        "    for p in tqdm(data.params):\n",
        "        params = defaultdict(lambda: [])\n",
        "        res = [_p.split('<=>') for _p in p.split('<br>')]\n",
        "        m = [t[1] for t in res if len(t) == 2 and t[0] == 'm']\n",
        "        params_tab.append(m)\n",
        "    params_tab = pd.DataFrame(data={'m': params_tab})\n",
        "    params_tab.m = params_tab.m.map(lambda x: float(x[0]))\n",
        "    \n",
        "    return pd.concat([data, params_tab], axis=1)\n",
        "\n",
        "train_meters = append_meters(train)\n",
        "# train_meters.head()"
      ],
      "metadata": {
        "colab": {
          "base_uri": "https://localhost:8080/"
        },
        "id": "ZyLfDtXTWLov",
        "outputId": "55c7fbec-0fdc-45b4-87fe-c0cb4add3f4f"
      },
      "execution_count": null,
      "outputs": [
        {
          "output_type": "stream",
          "name": "stderr",
          "text": [
            "100%|██████████| 832011/832011 [00:12<00:00, 66000.52it/s]\n"
          ]
        }
      ]
    },
    {
      "cell_type": "code",
      "source": [
        "## BEFORE RUN THIS CELL CREATE REQUIRED FILES VIA THE OTHER NOTEBOOK !\n",
        "ttrain = train[['price', 'category', 'city_id', 'district_id']]  # , 'city_id', 'is_business', 'category'\n",
        "sef(ttrain)\n",
        "ttrain = ttrain.drop(columns=['city_id', 'district_id'])\n",
        "category = is_apartment(ttrain)\n",
        "# ttrain = ttrain.drop(columns=['category'])\n",
        "ttrain['category'] = category"
      ],
      "metadata": {
        "colab": {
          "base_uri": "https://localhost:8080/",
          "height": 233,
          "referenced_widgets": [
            "d97a05ce91a14dcf966aad04b81ba414",
            "be6888508126492a811059d59b317e4f",
            "c19ad518a39f42f3ad8268b3cb5bf71d",
            "ba4932d91cd144d48b52243c4aa2a15f",
            "7f03814e025e44bab8ac93ca70d336ad",
            "c51e9c965d7b4d30a6e32afa86783124",
            "c228e29d55c3422cbdf3983267966629",
            "9b95691ad44942f5bccf7edec4932675",
            "6503c64561ec409b89a121dbbf28ec7f",
            "018d0edef8fb478db1823459a83712cd",
            "cc966d572c7c4a92bfb9f984a7cba668"
          ]
        },
        "id": "VKgTuQ-M1qi9",
        "outputId": "2ed0a4c5-c6e1-4cbf-c01d-9995a48c5cb6"
      },
      "execution_count": 7,
      "outputs": [
        {
          "output_type": "display_data",
          "data": {
            "text/plain": [
              "0it [00:00, ?it/s]"
            ],
            "application/vnd.jupyter.widget-view+json": {
              "version_major": 2,
              "version_minor": 0,
              "model_id": "d97a05ce91a14dcf966aad04b81ba414"
            }
          },
          "metadata": {}
        },
        {
          "output_type": "stream",
          "name": "stderr",
          "text": [
            "/usr/local/lib/python3.7/dist-packages/ipykernel_launcher.py:46: SettingWithCopyWarning: \n",
            "A value is trying to be set on a copy of a slice from a DataFrame.\n",
            "Try using .loc[row_indexer,col_indexer] = value instead\n",
            "\n",
            "See the caveats in the documentation: https://pandas.pydata.org/pandas-docs/stable/user_guide/indexing.html#returning-a-view-versus-a-copy\n",
            "/usr/local/lib/python3.7/dist-packages/ipykernel_launcher.py:47: SettingWithCopyWarning: \n",
            "A value is trying to be set on a copy of a slice from a DataFrame.\n",
            "Try using .loc[row_indexer,col_indexer] = value instead\n",
            "\n",
            "See the caveats in the documentation: https://pandas.pydata.org/pandas-docs/stable/user_guide/indexing.html#returning-a-view-versus-a-copy\n"
          ]
        }
      ]
    },
    {
      "cell_type": "code",
      "source": [
        "from math import sqrt\n",
        "from sklearn.tree import DecisionTreeRegressor\n",
        "from sklearn.metrics import mean_squared_error, mean_absolute_error\n",
        "from sklearn.model_selection import train_test_split, GridSearchCV, ParameterGrid\n",
        "from sklearn.linear_model import HuberRegressor\n",
        "from sklearn.pipeline import make_pipeline\n",
        "from sklearn.preprocessing import Normalizer\n",
        "\n",
        "\n",
        "ttrain = pd.read_csv(path+'ttrain.csv')\n",
        "TRAIN_PARAMS_NAME = \"train_params_df.csv\"\n",
        "\n",
        "train_data = pd.read_csv(path+TRAIN_PARAMS_NAME).fillna(method='pad', axis=1).drop(columns=['security_types',\n",
        "                    'extras_types','garret_type','fence_types','media_types','heating_types','other','type',\n",
        "                    'deposit', 'deposit[currency]', 'rent_to_students','access_types'])\n",
        "\n",
        "train_data = pd.concat([ttrain, train_data], axis=1)\n",
        "# Price per squared meter\n",
        "# price_per_m(train_data)\n",
        "# train_data = train_data.drop(columns='price')\n",
        "# print(train_data[\"pln/m\"].head())\n",
        "# train_data = train_data[(train_data[\"pln/m\"]>=2000) & (train_data[\"pln/m\"]<=20000)]\n",
        "# X, Y = train_data.loc[:, train_data.columns != 'pln/m'], train_data.loc[:, train_data.columns == 'pln/m']\n",
        "train_data = train_data[(train_data[\"price\"]>=80_000) & (train_data[\"price\"]<=2_000_000)]\n",
        "X, Y = get_x_y(train_data)\n",
        "\n",
        "X_train, X_test, Y_train, Y_test = train_test_split(\n",
        "    X, Y, test_size=0.3\n",
        ")"
      ],
      "metadata": {
        "id": "j7nemzf_eiNh"
      },
      "execution_count": 6,
      "outputs": []
    },
    {
      "cell_type": "code",
      "source": [
        "from sklearn import neighbors\n",
        "from sklearn.ensemble import GradientBoostingRegressor, RandomForestRegressor, AdaBoostRegressor, VotingRegressor\n",
        "from sklearn.svm import SVR, LinearSVR\n",
        "from sklearn.neighbors import KNeighborsRegressor\n",
        "from sklearn.preprocessing import StandardScaler\n",
        "from sklearn.neural_network import MLPRegressor\n",
        "from sklearn.metrics import mean_absolute_error, mean_absolute_percentage_error\n",
        "import xgboost as xgb\n",
        "\n",
        "param_grid = [\n",
        "    {\n",
        "        # \"criterion\": [\"absolute_error\"],\n",
        "        \"max_depth\": [3, 5], # 1, 5, 7],\n",
        "        \"loss\": [\"huber\"],\n",
        "        \"min_samples_leaf\": [1, 40], # , 5, 10],\n",
        "        \"n_estimators\": [50, 100]\n",
        "    },\n",
        "]\n",
        "\n",
        "for params in (1,):  # ParameterGrid(param_grid)\n",
        "    model1 = RandomForestRegressor(n_estimators=30, max_depth=93, min_samples_leaf=50, n_jobs=-1, criterion='squared_error')\n",
        "\n",
        "    model1.fit(X_train, Y_train)\n",
        "\n",
        "    pred = model1.predict(X_test)\n",
        "    score = mean_squared_error(Y_test, pred)\n",
        "    print(\"RMSE: \", sqrt(score))\n",
        "    print(\"RMSE train: \", sqrt(mean_squared_error(Y_train, model1.predict(X_train))))\n",
        "    print(\"score: \", mean_absolute_error(Y_test, pred))\n",
        "    print(\"score %: \", mean_absolute_percentage_error(Y_test, pred))\n",
        "    print(\"=========================\")"
      ],
      "metadata": {
        "colab": {
          "base_uri": "https://localhost:8080/"
        },
        "id": "h4qbS4MySFgO",
        "outputId": "14b018b6-4560-41f4-df1c-45cc7909ef7c"
      },
      "execution_count": 7,
      "outputs": [
        {
          "output_type": "stream",
          "name": "stderr",
          "text": [
            "/usr/local/lib/python3.7/dist-packages/ipykernel_launcher.py:23: DataConversionWarning: A column-vector y was passed when a 1d array was expected. Please change the shape of y to (n_samples,), for example using ravel().\n"
          ]
        },
        {
          "output_type": "stream",
          "name": "stdout",
          "text": [
            "RMSE:  126246.17797137662\n",
            "RMSE train:  121436.54682412154\n",
            "score:  70189.28057109957\n",
            "score %:  0.16712671093929482\n",
            "=========================\n"
          ]
        }
      ]
    },
    {
      "cell_type": "code",
      "source": [
        "test = pd.read_csv(f'{path}test.csv', on_bad_lines='skip')\n",
        "ttrain = test[['price', 'category', 'city_id', 'district_id']]  # , 'city_id', 'is_business', 'category'\n",
        "sef(ttrain)\n",
        "ttrain = ttrain.drop(columns=['city_id', 'district_id'])\n",
        "category = is_apartment(ttrain)\n",
        "ttrain['category'] = category\n",
        "\n",
        "TEST_PARAMS_NAME = \"test_params_df.csv\"\n",
        "test_data = pd.read_csv(path+TEST_PARAMS_NAME).fillna(method='pad', axis=1).drop(columns=['security_types',\n",
        "                    'extras_types','garret_type','fence_types','media_types','heating_types','other','type',\n",
        "                    'deposit', 'deposit[currency]', 'rent_to_students','access_types'])\n",
        "\n",
        "test_data = pd.concat([ttrain, test_data], axis=1)\n",
        "y_test_predicted = model1.predict(test_data)\n",
        "np.savetxt(path+'test_results.csv', y_test_predicted, delimeter=',')"
      ],
      "metadata": {
        "id": "0P4pEcDpz_9j"
      },
      "execution_count": null,
      "outputs": []
    },
    {
      "cell_type": "code",
      "source": [
        "# model = VotingRegressor(estimators=[\n",
        "    #                                     ('knn', KNeighborsRegressor()),\n",
        "    #                                     ('grad', GradientBoostingRegressor()),\n",
        "    #                                     ('rand', RandomForestRegressor(max_depth=93, n_estimators=30, min_samples_leaf=50)),\n",
        "    #                                     ('mlp', MLPRegressor(hidden_layer_sizes=(15, 30, 15), max_iter=50))\n",
        "    # ])\n",
        "    # model = make_pipeline(StandardScaler(), LinearSVR())\n",
        "    # model1 = KNeighborsRegressor()\n",
        "    # model2 = KNeighborsRegressor()\n",
        "    # print(params)\n",
        "    # X_test_c1, X_test_c2 = X_test[X_test['category']], X_test[~X_test['category']]\n",
        "    # pred1, pred2 = model1.predict(X_test_c1), model2.predict(X_test_c2)\n",
        "    # p = np.concatenate([pred1, pred2], 0)\n",
        "    # pred = model.predict(X_test)\n",
        "    # model2 = RandomForestRegressor(n_estimators=30, max_depth=93, min_samples_leaf=50, n_jobs=-1, criterion='squared_error')\n",
        "    # X_train_small, Y_train_small = X_train[X_train['category']], Y_train[X_train['category']]\n",
        "    # X_train_big, Y_train_big = X_train[~X_train['category']], Y_train[~X_train['category']]\n",
        "    # model2.fit(X_train_big, Y_train_big)\n",
        "    # pred2 = model2.predict(X_test)\n",
        "    # pred_mask = pred <= 800_000\n",
        "    # pred2_mask = pred2 >= 800_000\n",
        "    # for i, (p, p2, m, m2) in enumerate(zip(pred, pred2, pred_mask, pred2_mask)):\n",
        "    #     # if m and not m2:\n",
        "    #     #     pred[i] = p\n",
        "    #     if not m and m2:\n",
        "    #         pred[i] = p2\n",
        "    #     # else:\n",
        "    #     #     pred[i] = p"
      ],
      "metadata": {
        "id": "7rpB3BVWyyCG"
      },
      "execution_count": null,
      "outputs": []
    },
    {
      "cell_type": "code",
      "source": [
        "knn = KNeighborsRegressor()\n",
        "knn.fit(X_train, Y_train)\n",
        "pred = knn.predict(X_test)\n",
        "score = mean_squared_error(Y_test, pred)\n",
        "print(\"RMSE: \", sqrt(score))\n",
        "print(\"RMSE train: \", sqrt(mean_squared_error(Y_train, knn.predict(X_train))))\n",
        "print(\"score: \", mean_absolute_error(Y_test, pred))\n",
        "print(\"score %: \", mean_absolute_percentage_error(Y_test, pred))\n",
        "print(\"=========================\")"
      ],
      "metadata": {
        "colab": {
          "base_uri": "https://localhost:8080/",
          "height": 400
        },
        "id": "UXAgAscGsOo1",
        "outputId": "debbffd4-d56d-48ee-dc3d-98bb1c12d3b8"
      },
      "execution_count": 27,
      "outputs": [
        {
          "output_type": "error",
          "ename": "KeyboardInterrupt",
          "evalue": "ignored",
          "traceback": [
            "\u001b[0;31m---------------------------------------------------------------------------\u001b[0m",
            "\u001b[0;31mKeyboardInterrupt\u001b[0m                         Traceback (most recent call last)",
            "\u001b[0;32m<ipython-input-27-a710e7690315>\u001b[0m in \u001b[0;36m<module>\u001b[0;34m()\u001b[0m\n\u001b[1;32m      1\u001b[0m \u001b[0mknn\u001b[0m \u001b[0;34m=\u001b[0m \u001b[0mKNeighborsRegressor\u001b[0m\u001b[0;34m(\u001b[0m\u001b[0;34m)\u001b[0m\u001b[0;34m\u001b[0m\u001b[0;34m\u001b[0m\u001b[0m\n\u001b[1;32m      2\u001b[0m \u001b[0mknn\u001b[0m\u001b[0;34m.\u001b[0m\u001b[0mfit\u001b[0m\u001b[0;34m(\u001b[0m\u001b[0mX_train\u001b[0m\u001b[0;34m,\u001b[0m \u001b[0mY_train\u001b[0m\u001b[0;34m)\u001b[0m\u001b[0;34m\u001b[0m\u001b[0;34m\u001b[0m\u001b[0m\n\u001b[0;32m----> 3\u001b[0;31m \u001b[0mpred\u001b[0m \u001b[0;34m=\u001b[0m \u001b[0mknn\u001b[0m\u001b[0;34m.\u001b[0m\u001b[0mpredict\u001b[0m\u001b[0;34m(\u001b[0m\u001b[0mX_test\u001b[0m\u001b[0;34m)\u001b[0m\u001b[0;34m\u001b[0m\u001b[0;34m\u001b[0m\u001b[0m\n\u001b[0m\u001b[1;32m      4\u001b[0m \u001b[0mscore\u001b[0m \u001b[0;34m=\u001b[0m \u001b[0mmean_squared_error\u001b[0m\u001b[0;34m(\u001b[0m\u001b[0mY_test\u001b[0m\u001b[0;34m,\u001b[0m \u001b[0mpred\u001b[0m\u001b[0;34m)\u001b[0m\u001b[0;34m\u001b[0m\u001b[0;34m\u001b[0m\u001b[0m\n\u001b[1;32m      5\u001b[0m \u001b[0mprint\u001b[0m\u001b[0;34m(\u001b[0m\u001b[0;34m\"RMSE: \"\u001b[0m\u001b[0;34m,\u001b[0m \u001b[0msqrt\u001b[0m\u001b[0;34m(\u001b[0m\u001b[0mscore\u001b[0m\u001b[0;34m)\u001b[0m\u001b[0;34m)\u001b[0m\u001b[0;34m\u001b[0m\u001b[0;34m\u001b[0m\u001b[0m\n",
            "\u001b[0;32m/usr/local/lib/python3.7/dist-packages/sklearn/neighbors/_regression.py\u001b[0m in \u001b[0;36mpredict\u001b[0;34m(self, X)\u001b[0m\n\u001b[1;32m    227\u001b[0m             \u001b[0mTarget\u001b[0m \u001b[0mvalues\u001b[0m\u001b[0;34m.\u001b[0m\u001b[0;34m\u001b[0m\u001b[0;34m\u001b[0m\u001b[0m\n\u001b[1;32m    228\u001b[0m         \"\"\"\n\u001b[0;32m--> 229\u001b[0;31m         \u001b[0mneigh_dist\u001b[0m\u001b[0;34m,\u001b[0m \u001b[0mneigh_ind\u001b[0m \u001b[0;34m=\u001b[0m \u001b[0mself\u001b[0m\u001b[0;34m.\u001b[0m\u001b[0mkneighbors\u001b[0m\u001b[0;34m(\u001b[0m\u001b[0mX\u001b[0m\u001b[0;34m)\u001b[0m\u001b[0;34m\u001b[0m\u001b[0;34m\u001b[0m\u001b[0m\n\u001b[0m\u001b[1;32m    230\u001b[0m \u001b[0;34m\u001b[0m\u001b[0m\n\u001b[1;32m    231\u001b[0m         \u001b[0mweights\u001b[0m \u001b[0;34m=\u001b[0m \u001b[0m_get_weights\u001b[0m\u001b[0;34m(\u001b[0m\u001b[0mneigh_dist\u001b[0m\u001b[0;34m,\u001b[0m \u001b[0mself\u001b[0m\u001b[0;34m.\u001b[0m\u001b[0mweights\u001b[0m\u001b[0;34m)\u001b[0m\u001b[0;34m\u001b[0m\u001b[0;34m\u001b[0m\u001b[0m\n",
            "\u001b[0;32m/usr/local/lib/python3.7/dist-packages/sklearn/neighbors/_base.py\u001b[0m in \u001b[0;36mkneighbors\u001b[0;34m(self, X, n_neighbors, return_distance)\u001b[0m\n\u001b[1;32m    715\u001b[0m                 \u001b[0mX\u001b[0m \u001b[0;34m=\u001b[0m \u001b[0m_check_precomputed\u001b[0m\u001b[0;34m(\u001b[0m\u001b[0mX\u001b[0m\u001b[0;34m)\u001b[0m\u001b[0;34m\u001b[0m\u001b[0;34m\u001b[0m\u001b[0m\n\u001b[1;32m    716\u001b[0m             \u001b[0;32melse\u001b[0m\u001b[0;34m:\u001b[0m\u001b[0;34m\u001b[0m\u001b[0;34m\u001b[0m\u001b[0m\n\u001b[0;32m--> 717\u001b[0;31m                 \u001b[0mX\u001b[0m \u001b[0;34m=\u001b[0m \u001b[0mself\u001b[0m\u001b[0;34m.\u001b[0m\u001b[0m_validate_data\u001b[0m\u001b[0;34m(\u001b[0m\u001b[0mX\u001b[0m\u001b[0;34m,\u001b[0m \u001b[0maccept_sparse\u001b[0m\u001b[0;34m=\u001b[0m\u001b[0;34m\"csr\"\u001b[0m\u001b[0;34m,\u001b[0m \u001b[0mreset\u001b[0m\u001b[0;34m=\u001b[0m\u001b[0;32mFalse\u001b[0m\u001b[0;34m)\u001b[0m\u001b[0;34m\u001b[0m\u001b[0;34m\u001b[0m\u001b[0m\n\u001b[0m\u001b[1;32m    718\u001b[0m         \u001b[0;32melse\u001b[0m\u001b[0;34m:\u001b[0m\u001b[0;34m\u001b[0m\u001b[0;34m\u001b[0m\u001b[0m\n\u001b[1;32m    719\u001b[0m             \u001b[0mquery_is_train\u001b[0m \u001b[0;34m=\u001b[0m \u001b[0;32mTrue\u001b[0m\u001b[0;34m\u001b[0m\u001b[0;34m\u001b[0m\u001b[0m\n",
            "\u001b[0;32m/usr/local/lib/python3.7/dist-packages/sklearn/base.py\u001b[0m in \u001b[0;36m_validate_data\u001b[0;34m(self, X, y, reset, validate_separately, **check_params)\u001b[0m\n\u001b[1;32m    564\u001b[0m             \u001b[0;32mraise\u001b[0m \u001b[0mValueError\u001b[0m\u001b[0;34m(\u001b[0m\u001b[0;34m\"Validation should be done on X, y or both.\"\u001b[0m\u001b[0;34m)\u001b[0m\u001b[0;34m\u001b[0m\u001b[0;34m\u001b[0m\u001b[0m\n\u001b[1;32m    565\u001b[0m         \u001b[0;32melif\u001b[0m \u001b[0;32mnot\u001b[0m \u001b[0mno_val_X\u001b[0m \u001b[0;32mand\u001b[0m \u001b[0mno_val_y\u001b[0m\u001b[0;34m:\u001b[0m\u001b[0;34m\u001b[0m\u001b[0;34m\u001b[0m\u001b[0m\n\u001b[0;32m--> 566\u001b[0;31m             \u001b[0mX\u001b[0m \u001b[0;34m=\u001b[0m \u001b[0mcheck_array\u001b[0m\u001b[0;34m(\u001b[0m\u001b[0mX\u001b[0m\u001b[0;34m,\u001b[0m \u001b[0;34m**\u001b[0m\u001b[0mcheck_params\u001b[0m\u001b[0;34m)\u001b[0m\u001b[0;34m\u001b[0m\u001b[0;34m\u001b[0m\u001b[0m\n\u001b[0m\u001b[1;32m    567\u001b[0m             \u001b[0mout\u001b[0m \u001b[0;34m=\u001b[0m \u001b[0mX\u001b[0m\u001b[0;34m\u001b[0m\u001b[0;34m\u001b[0m\u001b[0m\n\u001b[1;32m    568\u001b[0m         \u001b[0;32melif\u001b[0m \u001b[0mno_val_X\u001b[0m \u001b[0;32mand\u001b[0m \u001b[0;32mnot\u001b[0m \u001b[0mno_val_y\u001b[0m\u001b[0;34m:\u001b[0m\u001b[0;34m\u001b[0m\u001b[0;34m\u001b[0m\u001b[0m\n",
            "\u001b[0;32m/usr/local/lib/python3.7/dist-packages/sklearn/utils/validation.py\u001b[0m in \u001b[0;36mcheck_array\u001b[0;34m(array, accept_sparse, accept_large_sparse, dtype, order, copy, force_all_finite, ensure_2d, allow_nd, ensure_min_samples, ensure_min_features, estimator)\u001b[0m\n\u001b[1;32m    744\u001b[0m                     \u001b[0marray\u001b[0m \u001b[0;34m=\u001b[0m \u001b[0marray\u001b[0m\u001b[0;34m.\u001b[0m\u001b[0mastype\u001b[0m\u001b[0;34m(\u001b[0m\u001b[0mdtype\u001b[0m\u001b[0;34m,\u001b[0m \u001b[0mcasting\u001b[0m\u001b[0;34m=\u001b[0m\u001b[0;34m\"unsafe\"\u001b[0m\u001b[0;34m,\u001b[0m \u001b[0mcopy\u001b[0m\u001b[0;34m=\u001b[0m\u001b[0;32mFalse\u001b[0m\u001b[0;34m)\u001b[0m\u001b[0;34m\u001b[0m\u001b[0;34m\u001b[0m\u001b[0m\n\u001b[1;32m    745\u001b[0m                 \u001b[0;32melse\u001b[0m\u001b[0;34m:\u001b[0m\u001b[0;34m\u001b[0m\u001b[0;34m\u001b[0m\u001b[0m\n\u001b[0;32m--> 746\u001b[0;31m                     \u001b[0marray\u001b[0m \u001b[0;34m=\u001b[0m \u001b[0mnp\u001b[0m\u001b[0;34m.\u001b[0m\u001b[0masarray\u001b[0m\u001b[0;34m(\u001b[0m\u001b[0marray\u001b[0m\u001b[0;34m,\u001b[0m \u001b[0morder\u001b[0m\u001b[0;34m=\u001b[0m\u001b[0morder\u001b[0m\u001b[0;34m,\u001b[0m \u001b[0mdtype\u001b[0m\u001b[0;34m=\u001b[0m\u001b[0mdtype\u001b[0m\u001b[0;34m)\u001b[0m\u001b[0;34m\u001b[0m\u001b[0;34m\u001b[0m\u001b[0m\n\u001b[0m\u001b[1;32m    747\u001b[0m             \u001b[0;32mexcept\u001b[0m \u001b[0mComplexWarning\u001b[0m \u001b[0;32mas\u001b[0m \u001b[0mcomplex_warning\u001b[0m\u001b[0;34m:\u001b[0m\u001b[0;34m\u001b[0m\u001b[0;34m\u001b[0m\u001b[0m\n\u001b[1;32m    748\u001b[0m                 raise ValueError(\n",
            "\u001b[0;32m/usr/local/lib/python3.7/dist-packages/pandas/core/generic.py\u001b[0m in \u001b[0;36m__array__\u001b[0;34m(self, dtype)\u001b[0m\n\u001b[1;32m   1991\u001b[0m \u001b[0;34m\u001b[0m\u001b[0m\n\u001b[1;32m   1992\u001b[0m     \u001b[0;32mdef\u001b[0m \u001b[0m__array__\u001b[0m\u001b[0;34m(\u001b[0m\u001b[0mself\u001b[0m\u001b[0;34m,\u001b[0m \u001b[0mdtype\u001b[0m\u001b[0;34m:\u001b[0m \u001b[0mNpDtype\u001b[0m \u001b[0;34m|\u001b[0m \u001b[0;32mNone\u001b[0m \u001b[0;34m=\u001b[0m \u001b[0;32mNone\u001b[0m\u001b[0;34m)\u001b[0m \u001b[0;34m->\u001b[0m \u001b[0mnp\u001b[0m\u001b[0;34m.\u001b[0m\u001b[0mndarray\u001b[0m\u001b[0;34m:\u001b[0m\u001b[0;34m\u001b[0m\u001b[0;34m\u001b[0m\u001b[0m\n\u001b[0;32m-> 1993\u001b[0;31m         \u001b[0;32mreturn\u001b[0m \u001b[0mnp\u001b[0m\u001b[0;34m.\u001b[0m\u001b[0masarray\u001b[0m\u001b[0;34m(\u001b[0m\u001b[0mself\u001b[0m\u001b[0;34m.\u001b[0m\u001b[0m_values\u001b[0m\u001b[0;34m,\u001b[0m \u001b[0mdtype\u001b[0m\u001b[0;34m=\u001b[0m\u001b[0mdtype\u001b[0m\u001b[0;34m)\u001b[0m\u001b[0;34m\u001b[0m\u001b[0;34m\u001b[0m\u001b[0m\n\u001b[0m\u001b[1;32m   1994\u001b[0m \u001b[0;34m\u001b[0m\u001b[0m\n\u001b[1;32m   1995\u001b[0m     def __array_wrap__(\n",
            "\u001b[0;32m/usr/local/lib/python3.7/dist-packages/pandas/core/frame.py\u001b[0m in \u001b[0;36m_values\u001b[0;34m(self)\u001b[0m\n\u001b[1;32m    892\u001b[0m         \u001b[0mblocks\u001b[0m \u001b[0;34m=\u001b[0m \u001b[0mmgr\u001b[0m\u001b[0;34m.\u001b[0m\u001b[0mblocks\u001b[0m\u001b[0;34m\u001b[0m\u001b[0;34m\u001b[0m\u001b[0m\n\u001b[1;32m    893\u001b[0m         \u001b[0;32mif\u001b[0m \u001b[0mlen\u001b[0m\u001b[0;34m(\u001b[0m\u001b[0mblocks\u001b[0m\u001b[0;34m)\u001b[0m \u001b[0;34m!=\u001b[0m \u001b[0;36m1\u001b[0m\u001b[0;34m:\u001b[0m\u001b[0;34m\u001b[0m\u001b[0;34m\u001b[0m\u001b[0m\n\u001b[0;32m--> 894\u001b[0;31m             \u001b[0;32mreturn\u001b[0m \u001b[0mself\u001b[0m\u001b[0;34m.\u001b[0m\u001b[0mvalues\u001b[0m\u001b[0;34m\u001b[0m\u001b[0;34m\u001b[0m\u001b[0m\n\u001b[0m\u001b[1;32m    895\u001b[0m \u001b[0;34m\u001b[0m\u001b[0m\n\u001b[1;32m    896\u001b[0m         \u001b[0marr\u001b[0m \u001b[0;34m=\u001b[0m \u001b[0mblocks\u001b[0m\u001b[0;34m[\u001b[0m\u001b[0;36m0\u001b[0m\u001b[0;34m]\u001b[0m\u001b[0;34m.\u001b[0m\u001b[0mvalues\u001b[0m\u001b[0;34m\u001b[0m\u001b[0;34m\u001b[0m\u001b[0m\n",
            "\u001b[0;32m/usr/local/lib/python3.7/dist-packages/pandas/core/frame.py\u001b[0m in \u001b[0;36mvalues\u001b[0;34m(self)\u001b[0m\n\u001b[1;32m  10662\u001b[0m         \"\"\"\n\u001b[1;32m  10663\u001b[0m         \u001b[0mself\u001b[0m\u001b[0;34m.\u001b[0m\u001b[0m_consolidate_inplace\u001b[0m\u001b[0;34m(\u001b[0m\u001b[0;34m)\u001b[0m\u001b[0;34m\u001b[0m\u001b[0;34m\u001b[0m\u001b[0m\n\u001b[0;32m> 10664\u001b[0;31m         \u001b[0;32mreturn\u001b[0m \u001b[0mself\u001b[0m\u001b[0;34m.\u001b[0m\u001b[0m_mgr\u001b[0m\u001b[0;34m.\u001b[0m\u001b[0mas_array\u001b[0m\u001b[0;34m(\u001b[0m\u001b[0mtranspose\u001b[0m\u001b[0;34m=\u001b[0m\u001b[0;32mTrue\u001b[0m\u001b[0;34m)\u001b[0m\u001b[0;34m\u001b[0m\u001b[0;34m\u001b[0m\u001b[0m\n\u001b[0m\u001b[1;32m  10665\u001b[0m \u001b[0;34m\u001b[0m\u001b[0m\n\u001b[1;32m  10666\u001b[0m     \u001b[0;34m@\u001b[0m\u001b[0mdeprecate_nonkeyword_arguments\u001b[0m\u001b[0;34m(\u001b[0m\u001b[0mversion\u001b[0m\u001b[0;34m=\u001b[0m\u001b[0;32mNone\u001b[0m\u001b[0;34m,\u001b[0m \u001b[0mallowed_args\u001b[0m\u001b[0;34m=\u001b[0m\u001b[0;34m[\u001b[0m\u001b[0;34m\"self\"\u001b[0m\u001b[0;34m]\u001b[0m\u001b[0;34m)\u001b[0m\u001b[0;34m\u001b[0m\u001b[0;34m\u001b[0m\u001b[0m\n",
            "\u001b[0;32m/usr/local/lib/python3.7/dist-packages/pandas/core/internals/managers.py\u001b[0m in \u001b[0;36mas_array\u001b[0;34m(self, transpose, dtype, copy, na_value)\u001b[0m\n\u001b[1;32m   1464\u001b[0m                     \u001b[0marr\u001b[0m \u001b[0;34m=\u001b[0m \u001b[0marr\u001b[0m\u001b[0;34m.\u001b[0m\u001b[0mastype\u001b[0m\u001b[0;34m(\u001b[0m\u001b[0mdtype\u001b[0m\u001b[0;34m,\u001b[0m \u001b[0mcopy\u001b[0m\u001b[0;34m=\u001b[0m\u001b[0;32mFalse\u001b[0m\u001b[0;34m)\u001b[0m  \u001b[0;31m# type: ignore[arg-type]\u001b[0m\u001b[0;34m\u001b[0m\u001b[0;34m\u001b[0m\u001b[0m\n\u001b[1;32m   1465\u001b[0m         \u001b[0;32melse\u001b[0m\u001b[0;34m:\u001b[0m\u001b[0;34m\u001b[0m\u001b[0;34m\u001b[0m\u001b[0m\n\u001b[0;32m-> 1466\u001b[0;31m             \u001b[0marr\u001b[0m \u001b[0;34m=\u001b[0m \u001b[0mself\u001b[0m\u001b[0;34m.\u001b[0m\u001b[0m_interleave\u001b[0m\u001b[0;34m(\u001b[0m\u001b[0mdtype\u001b[0m\u001b[0;34m=\u001b[0m\u001b[0mdtype\u001b[0m\u001b[0;34m,\u001b[0m \u001b[0mna_value\u001b[0m\u001b[0;34m=\u001b[0m\u001b[0mna_value\u001b[0m\u001b[0;34m)\u001b[0m\u001b[0;34m\u001b[0m\u001b[0;34m\u001b[0m\u001b[0m\n\u001b[0m\u001b[1;32m   1467\u001b[0m             \u001b[0;31m# The underlying data was copied within _interleave\u001b[0m\u001b[0;34m\u001b[0m\u001b[0;34m\u001b[0m\u001b[0;34m\u001b[0m\u001b[0m\n\u001b[1;32m   1468\u001b[0m             \u001b[0mcopy\u001b[0m \u001b[0;34m=\u001b[0m \u001b[0;32mFalse\u001b[0m\u001b[0;34m\u001b[0m\u001b[0;34m\u001b[0m\u001b[0m\n",
            "\u001b[0;32m/usr/local/lib/python3.7/dist-packages/pandas/core/internals/managers.py\u001b[0m in \u001b[0;36m_interleave\u001b[0;34m(self, dtype, na_value)\u001b[0m\n\u001b[1;32m   1518\u001b[0m                 \u001b[0;31m# \"Union[ExtensionDtype, str, dtype[Any], Type[object], None]\"; expected\u001b[0m\u001b[0;34m\u001b[0m\u001b[0;34m\u001b[0m\u001b[0;34m\u001b[0m\u001b[0m\n\u001b[1;32m   1519\u001b[0m                 \u001b[0;31m# \"Union[dtype[Any], ExtensionDtype, None]\"\u001b[0m\u001b[0;34m\u001b[0m\u001b[0;34m\u001b[0m\u001b[0;34m\u001b[0m\u001b[0m\n\u001b[0;32m-> 1520\u001b[0;31m                 \u001b[0marr\u001b[0m \u001b[0;34m=\u001b[0m \u001b[0mblk\u001b[0m\u001b[0;34m.\u001b[0m\u001b[0mget_values\u001b[0m\u001b[0;34m(\u001b[0m\u001b[0mdtype\u001b[0m\u001b[0;34m)\u001b[0m  \u001b[0;31m# type: ignore[arg-type]\u001b[0m\u001b[0;34m\u001b[0m\u001b[0;34m\u001b[0m\u001b[0m\n\u001b[0m\u001b[1;32m   1521\u001b[0m             \u001b[0mresult\u001b[0m\u001b[0;34m[\u001b[0m\u001b[0mrl\u001b[0m\u001b[0;34m.\u001b[0m\u001b[0mindexer\u001b[0m\u001b[0;34m]\u001b[0m \u001b[0;34m=\u001b[0m \u001b[0marr\u001b[0m\u001b[0;34m\u001b[0m\u001b[0;34m\u001b[0m\u001b[0m\n\u001b[1;32m   1522\u001b[0m             \u001b[0mitemmask\u001b[0m\u001b[0;34m[\u001b[0m\u001b[0mrl\u001b[0m\u001b[0;34m.\u001b[0m\u001b[0mindexer\u001b[0m\u001b[0;34m]\u001b[0m \u001b[0;34m=\u001b[0m \u001b[0;36m1\u001b[0m\u001b[0;34m\u001b[0m\u001b[0;34m\u001b[0m\u001b[0m\n",
            "\u001b[0;32m/usr/local/lib/python3.7/dist-packages/pandas/core/internals/blocks.py\u001b[0m in \u001b[0;36mget_values\u001b[0;34m(self, dtype)\u001b[0m\n\u001b[1;32m    225\u001b[0m         \"\"\"\n\u001b[1;32m    226\u001b[0m         \u001b[0;32mif\u001b[0m \u001b[0mdtype\u001b[0m \u001b[0;34m==\u001b[0m \u001b[0m_dtype_obj\u001b[0m\u001b[0;34m:\u001b[0m\u001b[0;34m\u001b[0m\u001b[0;34m\u001b[0m\u001b[0m\n\u001b[0;32m--> 227\u001b[0;31m             \u001b[0;32mreturn\u001b[0m \u001b[0mself\u001b[0m\u001b[0;34m.\u001b[0m\u001b[0mvalues\u001b[0m\u001b[0;34m.\u001b[0m\u001b[0mastype\u001b[0m\u001b[0;34m(\u001b[0m\u001b[0m_dtype_obj\u001b[0m\u001b[0;34m)\u001b[0m\u001b[0;34m\u001b[0m\u001b[0;34m\u001b[0m\u001b[0m\n\u001b[0m\u001b[1;32m    228\u001b[0m         \u001b[0;31m# error: Incompatible return value type (got \"Union[ndarray, ExtensionArray]\",\u001b[0m\u001b[0;34m\u001b[0m\u001b[0;34m\u001b[0m\u001b[0;34m\u001b[0m\u001b[0m\n\u001b[1;32m    229\u001b[0m         \u001b[0;31m# expected \"ndarray\")\u001b[0m\u001b[0;34m\u001b[0m\u001b[0;34m\u001b[0m\u001b[0;34m\u001b[0m\u001b[0m\n",
            "\u001b[0;31mKeyboardInterrupt\u001b[0m: "
          ]
        }
      ]
    },
    {
      "cell_type": "code",
      "source": [
        "model = GradientBoostingRegressor()\n",
        "model.fit(X_train, Y_train)\n",
        "pred = model.predict(X_test)\n",
        "score = mean_squared_error(Y_test, pred)\n",
        "print(\"RMSE: \", sqrt(score))\n",
        "print(\"RMSE train: \", sqrt(mean_squared_error(Y_train, model.predict(X_train))))\n",
        "print(\"score: \", mean_absolute_error(Y_test, pred))\n",
        "print(\"score %: \", mean_absolute_percentage_error(Y_test, pred))\n",
        "print(\"=========================\")"
      ],
      "metadata": {
        "colab": {
          "base_uri": "https://localhost:8080/"
        },
        "id": "Y443Bf5_s3Uk",
        "outputId": "eae0f53d-e3f4-4d71-8727-d790942010f6"
      },
      "execution_count": 26,
      "outputs": [
        {
          "output_type": "stream",
          "name": "stderr",
          "text": [
            "/usr/local/lib/python3.7/dist-packages/sklearn/ensemble/_gb.py:494: DataConversionWarning: A column-vector y was passed when a 1d array was expected. Please change the shape of y to (n_samples, ), for example using ravel().\n",
            "  y = column_or_1d(y, warn=True)\n"
          ]
        },
        {
          "output_type": "stream",
          "name": "stdout",
          "text": [
            "RMSE:  146658.37022234494\n",
            "RMSE train:  147040.81335627256\n",
            "score:  88682.4883822952\n",
            "score %:  0.22863913846608447\n",
            "=========================\n"
          ]
        }
      ]
    },
    {
      "cell_type": "code",
      "source": [
        "print(Y.min(), Y.max(), Y.mean(), np.std(Y), Y.median())\n",
        "\n",
        "p_name = 'price'  # 'pln/m'\n",
        "sm = Y[Y[p_name]<80000]\n",
        "print('small: ', sm.shape[0]/Y.shape[0])\n",
        "print('big: ', Y[Y[p_name]>2_000_000].shape[0]/Y.shape[0])\n",
        "Y[Y<10000].plot.hist()\n",
        "th2 = 1_000_000\n",
        "Y[(th2>Y)&(Y>80000)].plot.hist()\n",
        "Y[(Y>th2)&(Y<th2*5)].plot.hist()\n",
        "print(sqrt(mean_squared_error(Y_test, [Y_train.mean()]*Y_test.shape[0])))"
      ],
      "metadata": {
        "colab": {
          "base_uri": "https://localhost:8080/",
          "height": 952
        },
        "id": "ndOlWkwTNGHs",
        "outputId": "c5461032-706a-4e89-bbc5-ef7c3dc7af94"
      },
      "execution_count": 28,
      "outputs": [
        {
          "output_type": "stream",
          "name": "stdout",
          "text": [
            "price    80000\n",
            "dtype: int64 price    2000000\n",
            "dtype: int64 price    421685.187422\n",
            "dtype: float64 price    274626.159838\n",
            "dtype: float64 price    350000.0\n",
            "dtype: float64\n",
            "small:  0.0\n",
            "big:  0.0\n",
            "273549.18134407327\n"
          ]
        },
        {
          "output_type": "display_data",
          "data": {
            "text/plain": [
              "<Figure size 432x288 with 1 Axes>"
            ],
            "image/png": "[encoded data removed]"
          },
          "metadata": {
            "needs_background": "light"
          }
        },
        {
          "output_type": "display_data",
          "data": {
            "text/plain": [
              "<Figure size 432x288 with 1 Axes>"
            ],
            "image/png": "[encoded data removed]"
          },
          "metadata": {
            "needs_background": "light"
          }
        },
        {
          "output_type": "display_data",
          "data": {
            "text/plain": [
              "<Figure size 432x288 with 1 Axes>"
            ],
            "image/png": "[encoded data removed]"
          },
          "metadata": {
            "needs_background": "light"
          }
        }
      ]
    },
    {
      "cell_type": "code",
      "source": [
        "# NEURAL NETWORK\n",
        "from keras.callbacks import ModelCheckpoint\n",
        "from keras.models import Sequential\n",
        "from keras.layers import Dense, Activation, Flatten\n",
        "import tensorflow as tf"
      ],
      "metadata": {
        "id": "1ZuDx1Mj2-k2"
      },
      "execution_count": 8,
      "outputs": []
    },
    {
      "cell_type": "code",
      "source": [
        "x = X.drop(columns=['Unnamed: 0'])\n",
        "\n",
        "\n",
        "x['category'] = x['category'].astype(float)\n",
        "print(X.shape[1])\n",
        "print(x.shape[1])\n",
        "NN_model = Sequential()\n",
        "\n",
        "# The Input Layer :\n",
        "NN_model.add(Dense(32, kernel_initializer='normal',input_dim = x.shape[1], activation='relu'))\n",
        "\n",
        "# The Hidden Layers :\n",
        "NN_model.add(Dense(64, kernel_initializer='normal',activation='relu'))\n",
        "NN_model.add(Dense(64, kernel_initializer='normal',activation='relu'))\n",
        "NN_model.add(Dense(64, kernel_initializer='normal',activation='relu'))\n",
        "NN_model.add(Dense(64, kernel_initializer='normal',activation='relu'))\n",
        "NN_model.add(Dense(64, kernel_initializer='normal',activation='relu'))\n",
        "# The Output Layer :\n",
        "NN_model.add(Dense(1, kernel_initializer='normal',activation='linear'))\n",
        "\n",
        "# Compile the network :\n",
        "NN_model.compile(loss='mean_absolute_error', optimizer='adam', metrics=['mean_absolute_error'])\n",
        "NN_model.summary()"
      ],
      "metadata": {
        "id": "lAjnOANCtUOi"
      },
      "execution_count": null,
      "outputs": []
    },
    {
      "cell_type": "code",
      "source": [
        "checkpoint_name = 'RSE-{epoch:03d}--{val_loss:.5f}.hdf5' \n",
        "checkpoint = ModelCheckpoint(checkpoint_name, monitor='val_loss', verbose = 1, save_best_only = True, mode ='auto')\n",
        "callbacks_list = [checkpoint]\n",
        "NN_model.fit( x, Y , epochs=500, batch_size=1024,verbose=1,validation_split = 0.2, callbacks=callbacks_list)"
      ],
      "metadata": {
        "id": "agMksSWxtWYx"
      },
      "execution_count": null,
      "outputs": []
    },
    {
      "cell_type": "code",
      "source": [
        "import seaborn as sns\n",
        "import matplotlib.pylab as plt\n",
        "train_data = train_data.drop(columns=['Unnamed: 0'])\n",
        "train_data['category'] = train_data['category'].astype(float)\n",
        "corr = train_data.corr()\n",
        "plt.figure(figsize=(21,22))\n",
        "# plot the heatmap\n",
        "sns.heatmap(corr, \n",
        "        xticklabels=corr.columns,\n",
        "        yticklabels=corr.columns)"
      ],
      "metadata": {
        "id": "FfdV0uvqyRph"
      },
      "execution_count": null,
      "outputs": []
    }
  ]
}